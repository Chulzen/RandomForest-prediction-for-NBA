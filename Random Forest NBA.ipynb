{
 "cells": [
  {
   "cell_type": "markdown",
   "metadata": {},
   "source": [
    "## Descripción General\n",
    "El objetivo de este proyecto es desarrollar un modelo de Machine Learning para predecir el resultado de partidos de basquetball basado en diversas características del juego y del equipo. El modelo final se utilizará para ayudar a los analistas deportivos a tomar decisiones informadas sobre el rendimiento de los equipos.\n",
    "\n",
    "## Contexto\n",
    "La industria del deporte utiliza cada vez más la analítica de datos para tomar decisiones estratégicas. Los modelos de predicción pueden ser útiles para pronósticos de partidos, análisis de jugadores y estrategias de juego. Este proyecto aborda el desafío de predecir el resultado de los partidos (ganar o perder) utilizando un conjunto de datos con características relevantes.\n",
    "\n",
    "## Datos Utilizados\n",
    "El conjunto de datos para este proyecto proviene de kaggle. Contiene información sobre varios aspectos del juego, incluyendo estadísticas del equipo, rendimiento de jugadores, y otros datos relevantes. La preparación de los datos incluyó la limpieza, transformación y selección de características importantes para el modelado.\n",
    "\n",
    "## Objetivos\n",
    "- Construir un modelo de clasificación basado en Random Forest para predecir el resultado de los partidos.\n",
    "- Optimizar el modelo para mejorar su precisión y robustez.\n",
    "- Evaluar el modelo utilizando métricas de rendimiento como precisión, recall y F1-score.\n"
   ]
  },
  {
   "cell_type": "code",
   "execution_count": 1,
   "metadata": {},
   "outputs": [],
   "source": [
    "import pandas as pd\n",
    "from sklearn import metrics\n",
    "import numpy as np\n",
    "import seaborn as sns\n",
    "import matplotlib.pyplot as plt\n",
    "from sklearn.ensemble import RandomForestClassifier\n",
    "import math\n",
    "from sklearn.model_selection import train_test_split\n",
    "from sklearn.preprocessing import StandardScaler\n",
    "from statsmodels.stats.outliers_influence import variance_inflation_factor\n",
    "from sklearn.metrics import accuracy_score, precision_score, recall_score, f1_score, mean_absolute_error, mean_squared_error\n",
    "from sklearn.linear_model import LinearRegression \n",
    "from sklearn.model_selection import GridSearchCV\n",
    "from sklearn.model_selection import RandomizedSearchCV\n",
    "from pprint import pprint\n",
    "\n",
    "def get_info(df):\n",
    "\n",
    "    print(df.info())\n",
    "    display(df.head())\n",
    "    print('\\nValores null/isna')\n",
    "    valores_ausentes =  df.isna().sum()\n",
    "    display(valores_ausentes)\n",
    "\n",
    "# Crear una función para seleccionar las variables correlacionadas(mitad de Abajo matriz)\n",
    "def select_correlated_vars(correlation_matrix, threshold):\n",
    "    var_correlation = []\n",
    "\n",
    "    # Obtener los índices de la mitad inferior de la matriz de correlación\n",
    "    lower_triangle_indices = np.tril_indices_from(correlation_matrix, -1)\n",
    "\n",
    "    # Iterar sobre las columnas de la matriz de correlación\n",
    "    for i, col in enumerate(correlation_matrix.columns):\n",
    "        # Obtener los índices de las variables correlacionadas que superan el umbral\n",
    "        correlated_indices = np.where((correlation_matrix[col].abs() > threshold) & (correlation_matrix[col].abs() < 1))[0]\n",
    "        \n",
    "        # Filtrar solo los índices de la mitad inferior de la matriz de correlación\n",
    "        correlated_indices = correlated_indices[np.where(correlated_indices < i)]\n",
    "\n",
    "        # Obtener los nombres de las variables correlacionadas\n",
    "        correlated_vars = correlation_matrix.columns[correlated_indices].tolist()\n",
    "        \n",
    "        # Agregar las variables correlacionadas a la lista\n",
    "        if correlated_vars:\n",
    "            var_correlation.append((col, correlated_vars))\n",
    "\n",
    "    return var_correlation\n",
    "\n",
    "def correlation_matrx(df):\n",
    "    #Procedemos a realiza una matriz de correlacion para las distintas variables\n",
    "    # Escalamos las variables\n",
    "    scaler = StandardScaler()\n",
    "    scaled_data2 = scaler.fit_transform(df)\n",
    "\n",
    "    # Calculamos la correlación\n",
    "    correlation = np.corrcoef(scaled_data2, rowvar=False)\n",
    "\n",
    "    # Convertimos el gráfico en una tabla\n",
    "    correlation_df = pd.DataFrame(correlation, index=df.columns, columns=df.columns)\n",
    "\n",
    "    # Solo mostramos las correlaciones con un valor absoluto superior a 0.6\n",
    "    correlation_df1 = correlation_df[abs(correlation_df) > 0.6]\n",
    "\n",
    "    # Imprimimos la tabla, Esta tabla ya esta sin los valores del treshhold, ya que fueron seleccionadas las variables mas arriba\n",
    "    print(correlation_df1.to_string())"
   ]
  },
  {
   "cell_type": "code",
   "execution_count": 2,
   "metadata": {},
   "outputs": [],
   "source": [
    "df = pd.read_csv('game1.csv', parse_dates=['game_date'])"
   ]
  },
  {
   "cell_type": "code",
   "execution_count": 3,
   "metadata": {},
   "outputs": [
    {
     "data": {
      "text/plain": [
       "Index(['season_id', 'team_id_home', 'team_abbreviation_home', 'team_name_home',\n",
       "       'game_id', 'game_date', 'matchup_home', 'wl_home', 'min', 'fgm_home',\n",
       "       'fga_home', 'fg_pct_home', 'fg3m_home', 'fg3a_home', 'fg3_pct_home',\n",
       "       'ftm_home', 'fta_home', 'ft_pct_home', 'oreb_home', 'dreb_home',\n",
       "       'reb_home', 'ast_home', 'stl_home', 'blk_home', 'tov_home', 'pf_home',\n",
       "       'pts_home', 'plus_minus_home', 'video_available_home', 'team_id_away',\n",
       "       'team_abbreviation_away', 'team_name_away', 'matchup_away', 'wl_away',\n",
       "       'fgm_away', 'fga_away', 'fg_pct_away', 'fg3m_away', 'fg3a_away',\n",
       "       'fg3_pct_away', 'ftm_away', 'fta_away', 'ft_pct_away', 'oreb_away',\n",
       "       'dreb_away', 'reb_away', 'ast_away', 'stl_away', 'blk_away', 'tov_away',\n",
       "       'pf_away', 'pts_away', 'plus_minus_away', 'video_available_away',\n",
       "       'season_type'],\n",
       "      dtype='object')"
      ]
     },
     "execution_count": 3,
     "metadata": {},
     "output_type": "execute_result"
    }
   ],
   "source": [
    "df.columns"
   ]
  },
  {
   "cell_type": "code",
   "execution_count": 4,
   "metadata": {},
   "outputs": [],
   "source": [
    "#eliminamos las variables que no son de interes para el proyecto \n",
    "columnas_eliminar=['video_available_home','video_available_away','min','team_name_home','team_name_away','matchup_home','matchup_away','team_abbreviation_home', 'team_abbreviation_away','team_id_away','wl_away','plus_minus_home','plus_minus_away']\n",
    "\n",
    "games=df.drop(columnas_eliminar, axis=1)\n",
    "#Eliminamos la data que de los años que no nos interesan\n",
    "\n",
    "games = games[(games['game_date'] >= '2010-01-01') & (games['game_date'] <= '2018-08-16')]\n",
    "\n"
   ]
  },
  {
   "cell_type": "code",
   "execution_count": 5,
   "metadata": {},
   "outputs": [],
   "source": [
    "#eliminamos los valores vacios \n",
    "games= games.dropna()\n"
   ]
  },
  {
   "cell_type": "code",
   "execution_count": 6,
   "metadata": {},
   "outputs": [],
   "source": [
    "#procedemos a Mapear las victorios y perdidas como 0 y 1, lo que luego seran nuestras variables Target\n",
    "games['wl_home'] = games['wl_home'].map({'W': 1, 'L': 0})\n",
    "\n"
   ]
  },
  {
   "cell_type": "code",
   "execution_count": 7,
   "metadata": {},
   "outputs": [],
   "source": [
    "#nos aseguramos que esten en las season de All-star y Pre Season\n",
    "games = games[~games['season_type'].isin(['All-Star', 'Pre Season'])]\n"
   ]
  },
  {
   "cell_type": "code",
   "execution_count": 8,
   "metadata": {},
   "outputs": [],
   "source": [
    "#Eliminamos estas variables ya qie nos molestan para ghacer el feature importance\n",
    "games = games.drop(['game_date','season_type'], axis=1)"
   ]
  },
  {
   "cell_type": "code",
   "execution_count": 9,
   "metadata": {},
   "outputs": [],
   "source": [
    "#hacemos las dummies de los equipos\n",
    "games = pd.get_dummies(games, columns=['wl_home'], drop_first=True)\n"
   ]
  },
  {
   "cell_type": "code",
   "execution_count": 10,
   "metadata": {},
   "outputs": [
    {
     "name": "stdout",
     "output_type": "stream",
     "text": [
      "<class 'pandas.core.frame.DataFrame'>\n",
      "Int64Index: 9885 entries, 48459 to 59254\n",
      "Data columns (total 40 columns):\n",
      " #   Column        Non-Null Count  Dtype  \n",
      "---  ------        --------------  -----  \n",
      " 0   season_id     9885 non-null   int64  \n",
      " 1   team_id_home  9885 non-null   int64  \n",
      " 2   game_id       9885 non-null   int64  \n",
      " 3   fgm_home      9885 non-null   float64\n",
      " 4   fga_home      9885 non-null   float64\n",
      " 5   fg_pct_home   9885 non-null   float64\n",
      " 6   fg3m_home     9885 non-null   float64\n",
      " 7   fg3a_home     9885 non-null   float64\n",
      " 8   fg3_pct_home  9885 non-null   float64\n",
      " 9   ftm_home      9885 non-null   float64\n",
      " 10  fta_home      9885 non-null   float64\n",
      " 11  ft_pct_home   9885 non-null   float64\n",
      " 12  oreb_home     9885 non-null   float64\n",
      " 13  dreb_home     9885 non-null   float64\n",
      " 14  reb_home      9885 non-null   float64\n",
      " 15  ast_home      9885 non-null   float64\n",
      " 16  stl_home      9885 non-null   float64\n",
      " 17  blk_home      9885 non-null   float64\n",
      " 18  tov_home      9885 non-null   float64\n",
      " 19  pf_home       9885 non-null   float64\n",
      " 20  pts_home      9885 non-null   float64\n",
      " 21  fgm_away      9885 non-null   float64\n",
      " 22  fga_away      9885 non-null   float64\n",
      " 23  fg_pct_away   9885 non-null   float64\n",
      " 24  fg3m_away     9885 non-null   float64\n",
      " 25  fg3a_away     9885 non-null   float64\n",
      " 26  fg3_pct_away  9885 non-null   float64\n",
      " 27  ftm_away      9885 non-null   float64\n",
      " 28  fta_away      9885 non-null   float64\n",
      " 29  ft_pct_away   9885 non-null   float64\n",
      " 30  oreb_away     9885 non-null   float64\n",
      " 31  dreb_away     9885 non-null   float64\n",
      " 32  reb_away      9885 non-null   float64\n",
      " 33  ast_away      9885 non-null   float64\n",
      " 34  stl_away      9885 non-null   float64\n",
      " 35  blk_away      9885 non-null   float64\n",
      " 36  tov_away      9885 non-null   float64\n",
      " 37  pf_away       9885 non-null   float64\n",
      " 38  pts_away      9885 non-null   float64\n",
      " 39  wl_home_1     9885 non-null   uint8  \n",
      "dtypes: float64(36), int64(3), uint8(1)\n",
      "memory usage: 3.0 MB\n"
     ]
    }
   ],
   "source": [
    "games.info()"
   ]
  },
  {
   "cell_type": "code",
   "execution_count": 11,
   "metadata": {},
   "outputs": [
    {
     "data": {
      "text/html": [
       "<div>\n",
       "<style scoped>\n",
       "    .dataframe tbody tr th:only-of-type {\n",
       "        vertical-align: middle;\n",
       "    }\n",
       "\n",
       "    .dataframe tbody tr th {\n",
       "        vertical-align: top;\n",
       "    }\n",
       "\n",
       "    .dataframe thead th {\n",
       "        text-align: right;\n",
       "    }\n",
       "</style>\n",
       "<table border=\"1\" class=\"dataframe\">\n",
       "  <thead>\n",
       "    <tr style=\"text-align: right;\">\n",
       "      <th></th>\n",
       "      <th>season_id</th>\n",
       "      <th>team_id_home</th>\n",
       "      <th>game_id</th>\n",
       "      <th>fgm_home</th>\n",
       "      <th>fga_home</th>\n",
       "      <th>fg_pct_home</th>\n",
       "      <th>fg3m_home</th>\n",
       "      <th>fg3a_home</th>\n",
       "      <th>fg3_pct_home</th>\n",
       "      <th>ftm_home</th>\n",
       "      <th>...</th>\n",
       "      <th>oreb_away</th>\n",
       "      <th>dreb_away</th>\n",
       "      <th>reb_away</th>\n",
       "      <th>ast_away</th>\n",
       "      <th>stl_away</th>\n",
       "      <th>blk_away</th>\n",
       "      <th>tov_away</th>\n",
       "      <th>pf_away</th>\n",
       "      <th>pts_away</th>\n",
       "      <th>wl_home_1</th>\n",
       "    </tr>\n",
       "  </thead>\n",
       "  <tbody>\n",
       "    <tr>\n",
       "      <th>48459</th>\n",
       "      <td>22009</td>\n",
       "      <td>1610612747</td>\n",
       "      <td>20900476</td>\n",
       "      <td>39.0</td>\n",
       "      <td>86.0</td>\n",
       "      <td>0.453</td>\n",
       "      <td>8.0</td>\n",
       "      <td>20.0</td>\n",
       "      <td>0.400</td>\n",
       "      <td>23.0</td>\n",
       "      <td>...</td>\n",
       "      <td>4.0</td>\n",
       "      <td>30.0</td>\n",
       "      <td>34.0</td>\n",
       "      <td>31.0</td>\n",
       "      <td>5.0</td>\n",
       "      <td>1.0</td>\n",
       "      <td>14.0</td>\n",
       "      <td>24.0</td>\n",
       "      <td>108.0</td>\n",
       "      <td>1</td>\n",
       "    </tr>\n",
       "    <tr>\n",
       "      <th>48460</th>\n",
       "      <td>22009</td>\n",
       "      <td>1610612737</td>\n",
       "      <td>20900474</td>\n",
       "      <td>46.0</td>\n",
       "      <td>100.0</td>\n",
       "      <td>0.460</td>\n",
       "      <td>7.0</td>\n",
       "      <td>27.0</td>\n",
       "      <td>0.259</td>\n",
       "      <td>9.0</td>\n",
       "      <td>...</td>\n",
       "      <td>10.0</td>\n",
       "      <td>36.0</td>\n",
       "      <td>46.0</td>\n",
       "      <td>25.0</td>\n",
       "      <td>5.0</td>\n",
       "      <td>2.0</td>\n",
       "      <td>16.0</td>\n",
       "      <td>16.0</td>\n",
       "      <td>112.0</td>\n",
       "      <td>0</td>\n",
       "    </tr>\n",
       "    <tr>\n",
       "      <th>48461</th>\n",
       "      <td>22009</td>\n",
       "      <td>1610612750</td>\n",
       "      <td>20900475</td>\n",
       "      <td>37.0</td>\n",
       "      <td>86.0</td>\n",
       "      <td>0.430</td>\n",
       "      <td>8.0</td>\n",
       "      <td>18.0</td>\n",
       "      <td>0.444</td>\n",
       "      <td>12.0</td>\n",
       "      <td>...</td>\n",
       "      <td>9.0</td>\n",
       "      <td>29.0</td>\n",
       "      <td>38.0</td>\n",
       "      <td>22.0</td>\n",
       "      <td>14.0</td>\n",
       "      <td>5.0</td>\n",
       "      <td>12.0</td>\n",
       "      <td>15.0</td>\n",
       "      <td>106.0</td>\n",
       "      <td>0</td>\n",
       "    </tr>\n",
       "    <tr>\n",
       "      <th>48462</th>\n",
       "      <td>22009</td>\n",
       "      <td>1610612764</td>\n",
       "      <td>20900480</td>\n",
       "      <td>35.0</td>\n",
       "      <td>80.0</td>\n",
       "      <td>0.438</td>\n",
       "      <td>4.0</td>\n",
       "      <td>10.0</td>\n",
       "      <td>0.400</td>\n",
       "      <td>12.0</td>\n",
       "      <td>...</td>\n",
       "      <td>3.0</td>\n",
       "      <td>34.0</td>\n",
       "      <td>37.0</td>\n",
       "      <td>23.0</td>\n",
       "      <td>3.0</td>\n",
       "      <td>3.0</td>\n",
       "      <td>12.0</td>\n",
       "      <td>24.0</td>\n",
       "      <td>97.0</td>\n",
       "      <td>0</td>\n",
       "    </tr>\n",
       "    <tr>\n",
       "      <th>48463</th>\n",
       "      <td>22009</td>\n",
       "      <td>1610612756</td>\n",
       "      <td>20900485</td>\n",
       "      <td>40.0</td>\n",
       "      <td>88.0</td>\n",
       "      <td>0.455</td>\n",
       "      <td>5.0</td>\n",
       "      <td>18.0</td>\n",
       "      <td>0.278</td>\n",
       "      <td>18.0</td>\n",
       "      <td>...</td>\n",
       "      <td>16.0</td>\n",
       "      <td>33.0</td>\n",
       "      <td>49.0</td>\n",
       "      <td>25.0</td>\n",
       "      <td>7.0</td>\n",
       "      <td>5.0</td>\n",
       "      <td>9.0</td>\n",
       "      <td>20.0</td>\n",
       "      <td>128.0</td>\n",
       "      <td>0</td>\n",
       "    </tr>\n",
       "  </tbody>\n",
       "</table>\n",
       "<p>5 rows × 40 columns</p>\n",
       "</div>"
      ],
      "text/plain": [
       "       season_id  team_id_home   game_id  fgm_home  fga_home  fg_pct_home  \\\n",
       "48459      22009    1610612747  20900476      39.0      86.0        0.453   \n",
       "48460      22009    1610612737  20900474      46.0     100.0        0.460   \n",
       "48461      22009    1610612750  20900475      37.0      86.0        0.430   \n",
       "48462      22009    1610612764  20900480      35.0      80.0        0.438   \n",
       "48463      22009    1610612756  20900485      40.0      88.0        0.455   \n",
       "\n",
       "       fg3m_home  fg3a_home  fg3_pct_home  ftm_home  ...  oreb_away  \\\n",
       "48459        8.0       20.0         0.400      23.0  ...        4.0   \n",
       "48460        7.0       27.0         0.259       9.0  ...       10.0   \n",
       "48461        8.0       18.0         0.444      12.0  ...        9.0   \n",
       "48462        4.0       10.0         0.400      12.0  ...        3.0   \n",
       "48463        5.0       18.0         0.278      18.0  ...       16.0   \n",
       "\n",
       "       dreb_away  reb_away  ast_away  stl_away  blk_away  tov_away  pf_away  \\\n",
       "48459       30.0      34.0      31.0       5.0       1.0      14.0     24.0   \n",
       "48460       36.0      46.0      25.0       5.0       2.0      16.0     16.0   \n",
       "48461       29.0      38.0      22.0      14.0       5.0      12.0     15.0   \n",
       "48462       34.0      37.0      23.0       3.0       3.0      12.0     24.0   \n",
       "48463       33.0      49.0      25.0       7.0       5.0       9.0     20.0   \n",
       "\n",
       "       pts_away  wl_home_1  \n",
       "48459     108.0          1  \n",
       "48460     112.0          0  \n",
       "48461     106.0          0  \n",
       "48462      97.0          0  \n",
       "48463     128.0          0  \n",
       "\n",
       "[5 rows x 40 columns]"
      ]
     },
     "execution_count": 11,
     "metadata": {},
     "output_type": "execute_result"
    }
   ],
   "source": [
    "games.head()"
   ]
  },
  {
   "cell_type": "code",
   "execution_count": 12,
   "metadata": {},
   "outputs": [
    {
     "name": "stdout",
     "output_type": "stream",
     "text": [
      "*Important Features (Importance > 0.01):*\n",
      "        variable  importance\n",
      "18      tov_home    0.010378\n",
      "19       pf_home    0.011635\n",
      "37       pf_away    0.011918\n",
      "6      fg3m_home    0.012560\n",
      "24     fg3m_away    0.012807\n",
      "32      reb_away    0.013325\n",
      "14      reb_home    0.014365\n",
      "28      fta_away    0.015143\n",
      "10      fta_home    0.016219\n",
      "27      ftm_away    0.019115\n",
      "9       ftm_home    0.021678\n",
      "8   fg3_pct_home    0.023113\n",
      "15      ast_home    0.023485\n",
      "33      ast_away    0.023728\n",
      "13     dreb_home    0.024028\n",
      "31     dreb_away    0.026614\n",
      "26  fg3_pct_away    0.027984\n",
      "3       fgm_home    0.046957\n",
      "21      fgm_away    0.047479\n",
      "5    fg_pct_home    0.071828\n",
      "23   fg_pct_away    0.080145\n",
      "20      pts_home    0.162824\n",
      "38      pts_away    0.168839\n"
     ]
    }
   ],
   "source": [
    "#realizamos en Feature Importance para saber con que variables nos quedamos\n",
    "\n",
    "X = games.drop(['wl_home_1'],axis=1)\n",
    "y = games['wl_home_1']\n",
    "\n",
    "\n",
    "X1_train, X1_test, y1_train, y1_test = train_test_split(X, y, test_size=0.3, random_state=42)\n",
    "\n",
    "\n",
    "model = RandomForestClassifier(n_estimators=100)\n",
    "\n",
    "\n",
    "model.fit(X1_train, y1_train)\n",
    "\n",
    "\n",
    "importances = model.feature_importances_\n",
    "\n",
    "\n",
    "threshold = 0.01\n",
    "\n",
    "\n",
    "df_featureImportance1 = pd.DataFrame({'variable': X.columns, 'importance': importances})\n",
    "\n",
    "\n",
    "df_important = df_featureImportance1[df_featureImportance1['importance'] > threshold]\n",
    "\n",
    "df_important = df_important.sort_values('importance', ascending=True)\n",
    "\n",
    "\n",
    "print(\"*Important Features (Importance > 0.01):*\")\n",
    "print(df_important)"
   ]
  },
  {
   "cell_type": "code",
   "execution_count": 13,
   "metadata": {},
   "outputs": [
    {
     "data": {
      "image/png": "[encoded data removed]",
      "text/plain": [
       "<Figure size 1000x500 with 1 Axes>"
      ]
     },
     "metadata": {},
     "output_type": "display_data"
    }
   ],
   "source": [
    "#Creamos un grafico con las varibales para poder visualizarlos mejor\n",
    "fig = plt.figure(figsize=(10, 5))\n",
    " \n",
    "\n",
    "plt.barh(df_important['variable'], df_important['importance'], color='maroon')\n",
    " \n",
    "plt.xlabel(\"Importance\")\n",
    "plt.ylabel(\"Variable\")\n",
    "plt.title(\"Feature Importance\")\n",
    "plt.show()\n"
   ]
  },
  {
   "cell_type": "code",
   "execution_count": 14,
   "metadata": {},
   "outputs": [],
   "source": [
    "#Guardamos las varibale  del feature importance en una lista\n",
    "\n",
    "var_feature_Importance = df_important['variable'].to_list()"
   ]
  },
  {
   "cell_type": "code",
   "execution_count": 15,
   "metadata": {},
   "outputs": [
    {
     "name": "stdout",
     "output_type": "stream",
     "text": [
      "['tov_home', 'pf_home', 'pf_away', 'fg3m_home', 'fg3m_away', 'reb_away', 'reb_home', 'fta_away', 'fta_home', 'ftm_away', 'ftm_home', 'fg3_pct_home', 'ast_home', 'ast_away', 'dreb_home', 'dreb_away', 'fg3_pct_away', 'fgm_home', 'fgm_away', 'fg_pct_home', 'fg_pct_away', 'pts_home', 'pts_away']\n"
     ]
    }
   ],
   "source": [
    "print(var_feature_Importance)"
   ]
  },
  {
   "cell_type": "code",
   "execution_count": 16,
   "metadata": {},
   "outputs": [
    {
     "name": "stdout",
     "output_type": "stream",
     "text": [
      "              tov_home   pf_home   pf_away  fg3m_home  fg3m_away  reb_away  reb_home  fta_away  fta_home  ftm_away  ftm_home  fg3_pct_home  ast_home  ast_away  dreb_home  dreb_away  fg3_pct_away  fgm_home  fgm_away  fg_pct_home  fg_pct_away  pts_home  pts_away\n",
      "tov_home           1.0       NaN       NaN        NaN        NaN       NaN       NaN       NaN       NaN       NaN       NaN           NaN       NaN       NaN        NaN        NaN           NaN       NaN       NaN          NaN          NaN       NaN       NaN\n",
      "pf_home            NaN  1.000000       NaN        NaN        NaN       NaN       NaN  0.792719       NaN  0.726001       NaN           NaN       NaN       NaN        NaN        NaN           NaN       NaN       NaN          NaN          NaN       NaN       NaN\n",
      "pf_away            NaN       NaN  1.000000        NaN        NaN       NaN       NaN       NaN  0.801724       NaN  0.734566           NaN       NaN       NaN        NaN        NaN           NaN       NaN       NaN          NaN          NaN       NaN       NaN\n",
      "fg3m_home          NaN       NaN       NaN    1.00000        NaN       NaN       NaN       NaN       NaN       NaN       NaN       0.65625       NaN       NaN        NaN        NaN           NaN       NaN       NaN          NaN          NaN       NaN       NaN\n",
      "fg3m_away          NaN       NaN       NaN        NaN   1.000000       NaN       NaN       NaN       NaN       NaN       NaN           NaN       NaN       NaN        NaN        NaN      0.651514       NaN       NaN          NaN          NaN       NaN       NaN\n",
      "reb_away           NaN       NaN       NaN        NaN        NaN  1.000000       NaN       NaN       NaN       NaN       NaN           NaN       NaN       NaN        NaN   0.802394           NaN       NaN       NaN          NaN          NaN       NaN       NaN\n",
      "reb_home           NaN       NaN       NaN        NaN        NaN       NaN   1.00000       NaN       NaN       NaN       NaN           NaN       NaN       NaN   0.802070        NaN           NaN       NaN       NaN          NaN          NaN       NaN       NaN\n",
      "fta_away           NaN  0.792719       NaN        NaN        NaN       NaN       NaN  1.000000       NaN  0.923733       NaN           NaN       NaN       NaN        NaN        NaN           NaN       NaN       NaN          NaN          NaN       NaN       NaN\n",
      "fta_home           NaN       NaN  0.801724        NaN        NaN       NaN       NaN       NaN  1.000000       NaN  0.925466           NaN       NaN       NaN        NaN        NaN           NaN       NaN       NaN          NaN          NaN       NaN       NaN\n",
      "ftm_away           NaN  0.726001       NaN        NaN        NaN       NaN       NaN  0.923733       NaN  1.000000       NaN           NaN       NaN       NaN        NaN        NaN           NaN       NaN       NaN          NaN          NaN       NaN       NaN\n",
      "ftm_home           NaN       NaN  0.734566        NaN        NaN       NaN       NaN       NaN  0.925466       NaN  1.000000           NaN       NaN       NaN        NaN        NaN           NaN       NaN       NaN          NaN          NaN       NaN       NaN\n",
      "fg3_pct_home       NaN       NaN       NaN    0.65625        NaN       NaN       NaN       NaN       NaN       NaN       NaN       1.00000       NaN       NaN        NaN        NaN           NaN       NaN       NaN          NaN          NaN       NaN       NaN\n",
      "ast_home           NaN       NaN       NaN        NaN        NaN       NaN       NaN       NaN       NaN       NaN       NaN           NaN  1.000000       NaN        NaN        NaN           NaN  0.656952       NaN          NaN          NaN       NaN       NaN\n",
      "ast_away           NaN       NaN       NaN        NaN        NaN       NaN       NaN       NaN       NaN       NaN       NaN           NaN       NaN  1.000000        NaN        NaN           NaN       NaN  0.632824          NaN          NaN       NaN       NaN\n",
      "dreb_home          NaN       NaN       NaN        NaN        NaN       NaN   0.80207       NaN       NaN       NaN       NaN           NaN       NaN       NaN   1.000000        NaN           NaN       NaN       NaN          NaN    -0.616105       NaN       NaN\n",
      "dreb_away          NaN       NaN       NaN        NaN        NaN  0.802394       NaN       NaN       NaN       NaN       NaN           NaN       NaN       NaN        NaN   1.000000           NaN       NaN       NaN    -0.622799          NaN       NaN       NaN\n",
      "fg3_pct_away       NaN       NaN       NaN        NaN   0.651514       NaN       NaN       NaN       NaN       NaN       NaN           NaN       NaN       NaN        NaN        NaN      1.000000       NaN       NaN          NaN          NaN       NaN       NaN\n",
      "fgm_home           NaN       NaN       NaN        NaN        NaN       NaN       NaN       NaN       NaN       NaN       NaN           NaN  0.656952       NaN        NaN        NaN           NaN  1.000000       NaN     0.758663          NaN  0.839953       NaN\n",
      "fgm_away           NaN       NaN       NaN        NaN        NaN       NaN       NaN       NaN       NaN       NaN       NaN           NaN       NaN  0.632824        NaN        NaN           NaN       NaN  1.000000          NaN     0.754992       NaN  0.840094\n",
      "fg_pct_home        NaN       NaN       NaN        NaN        NaN       NaN       NaN       NaN       NaN       NaN       NaN           NaN       NaN       NaN        NaN  -0.622799           NaN  0.758663       NaN     1.000000          NaN  0.687452       NaN\n",
      "fg_pct_away        NaN       NaN       NaN        NaN        NaN       NaN       NaN       NaN       NaN       NaN       NaN           NaN       NaN       NaN  -0.616105        NaN           NaN       NaN  0.754992          NaN     1.000000       NaN  0.683534\n",
      "pts_home           NaN       NaN       NaN        NaN        NaN       NaN       NaN       NaN       NaN       NaN       NaN           NaN       NaN       NaN        NaN        NaN           NaN  0.839953       NaN     0.687452          NaN  1.000000       NaN\n",
      "pts_away           NaN       NaN       NaN        NaN        NaN       NaN       NaN       NaN       NaN       NaN       NaN           NaN       NaN       NaN        NaN        NaN           NaN       NaN  0.840094          NaN     0.683534       NaN  1.000000\n"
     ]
    }
   ],
   "source": [
    "#Procedemos a realiza una matriz de correlacion para las distintas variables\n",
    "\n",
    "\n",
    "games_FI = games[var_feature_Importance]\n",
    "\n",
    "\n",
    "scaler = StandardScaler()\n",
    "scaled_data2 = scaler.fit_transform(games_FI)\n",
    "\n",
    "correlation = np.corrcoef(scaled_data2, rowvar=False)\n",
    "\n",
    "\n",
    "correlation_df = pd.DataFrame(correlation, index=games_FI.columns, columns=games_FI.columns)\n",
    "\n",
    "#\n",
    "correlation_df1 = correlation_df[abs(correlation_df) > 0.6]\n",
    "\n",
    "\n",
    "print(correlation_df1.to_string())"
   ]
  },
  {
   "cell_type": "code",
   "execution_count": 17,
   "metadata": {},
   "outputs": [
    {
     "name": "stdout",
     "output_type": "stream",
     "text": [
      "Variables con correlación superior a 0.6 y menos a 1:\n",
      "fta_away: ['pf_home']\n",
      "fta_home: ['pf_away']\n",
      "ftm_away: ['pf_home', 'fta_away']\n",
      "ftm_home: ['pf_away', 'fta_home']\n",
      "fg3_pct_home: ['fg3m_home']\n",
      "dreb_home: ['reb_home']\n",
      "dreb_away: ['reb_away']\n",
      "fg3_pct_away: ['fg3m_away']\n",
      "fgm_home: ['ast_home']\n",
      "fgm_away: ['ast_away']\n",
      "fg_pct_home: ['dreb_away', 'fgm_home']\n",
      "fg_pct_away: ['dreb_home', 'fgm_away']\n",
      "pts_home: ['fgm_home', 'fg_pct_home']\n",
      "pts_away: ['fgm_away', 'fg_pct_away']\n"
     ]
    }
   ],
   "source": [
    "#procedemos a reconocer y guardar las variables correlacionadas\n",
    "\n",
    "\n",
    "umbral = 0.6\n",
    "\n",
    "\n",
    "var_correlation = select_correlated_vars(correlation_df1, umbral)\n",
    "\n",
    "\n",
    "print(\"Variables con correlación superior a 0.6 y menos a 1:\")\n",
    "for var, correlated in var_correlation:\n",
    "    print(f\"{var}: {correlated}\")\n"
   ]
  },
  {
   "cell_type": "code",
   "execution_count": 18,
   "metadata": {},
   "outputs": [],
   "source": [
    "# Crear una lista temporal para almacenar todas las variables correlacionadas\n",
    "all_correlated_vars = []\n",
    "\n",
    "\n",
    "for _, correlated_vars in var_correlation:\n",
    "    \n",
    "    all_correlated_vars.extend(correlated_vars)\n",
    "\n",
    "\n",
    "var_correlation_unique = np.unique(all_correlated_vars)\n",
    "\n",
    "\n"
   ]
  },
  {
   "cell_type": "code",
   "execution_count": 19,
   "metadata": {},
   "outputs": [],
   "source": [
    "var_feature_Importance.append('wl_home_1')"
   ]
  },
  {
   "cell_type": "code",
   "execution_count": 20,
   "metadata": {},
   "outputs": [
    {
     "name": "stdout",
     "output_type": "stream",
     "text": [
      "['ast_away' 'ast_home' 'dreb_away' 'dreb_home' 'fg3m_away' 'fg3m_home'\n",
      " 'fg_pct_away' 'fg_pct_home' 'fgm_away' 'fgm_home' 'fta_away' 'fta_home'\n",
      " 'pf_away' 'pf_home' 'reb_away' 'reb_home']\n"
     ]
    }
   ],
   "source": [
    "print(var_correlation_unique)"
   ]
  },
  {
   "cell_type": "code",
   "execution_count": 21,
   "metadata": {},
   "outputs": [
    {
     "name": "stdout",
     "output_type": "stream",
     "text": [
      "['tov_home', 'pf_home', 'pf_away', 'fg3m_home', 'fg3m_away', 'reb_away', 'reb_home', 'fta_away', 'fta_home', 'ftm_away', 'ftm_home', 'fg3_pct_home', 'ast_home', 'ast_away', 'dreb_home', 'dreb_away', 'fg3_pct_away', 'fgm_home', 'fgm_away', 'fg_pct_home', 'fg_pct_away', 'pts_home', 'pts_away', 'wl_home_1']\n"
     ]
    }
   ],
   "source": [
    "print(var_feature_Importance)"
   ]
  },
  {
   "cell_type": "code",
   "execution_count": 22,
   "metadata": {},
   "outputs": [],
   "source": [
    "#procedemos da dejar la la base de datos para entrenarlos con el VIF\n",
    "\n",
    "games_FI = games[var_feature_Importance]\n",
    "games_CM = games_FI.drop(var_correlation_unique, axis=1)"
   ]
  },
  {
   "cell_type": "code",
   "execution_count": 23,
   "metadata": {},
   "outputs": [
    {
     "data": {
      "text/plain": [
       "Index(['tov_home', 'pf_home', 'pf_away', 'fg3m_home', 'fg3m_away', 'reb_away',\n",
       "       'reb_home', 'fta_away', 'fta_home', 'ftm_away', 'ftm_home',\n",
       "       'fg3_pct_home', 'ast_home', 'ast_away', 'dreb_home', 'dreb_away',\n",
       "       'fg3_pct_away', 'fgm_home', 'fgm_away', 'fg_pct_home', 'fg_pct_away',\n",
       "       'pts_home', 'pts_away', 'wl_home_1'],\n",
       "      dtype='object')"
      ]
     },
     "execution_count": 23,
     "metadata": {},
     "output_type": "execute_result"
    }
   ],
   "source": [
    "games_FI.columns"
   ]
  },
  {
   "cell_type": "code",
   "execution_count": 24,
   "metadata": {},
   "outputs": [
    {
     "data": {
      "text/plain": [
       "Index(['tov_home', 'ftm_away', 'ftm_home', 'fg3_pct_home', 'fg3_pct_away',\n",
       "       'pts_home', 'pts_away', 'wl_home_1'],\n",
       "      dtype='object')"
      ]
     },
     "execution_count": 24,
     "metadata": {},
     "output_type": "execute_result"
    }
   ],
   "source": [
    "games_CM.columns"
   ]
  },
  {
   "cell_type": "code",
   "execution_count": null,
   "metadata": {},
   "outputs": [],
   "source": []
  },
  {
   "cell_type": "code",
   "execution_count": 25,
   "metadata": {},
   "outputs": [
    {
     "name": "stdout",
     "output_type": "stream",
     "text": [
      "       Variable        VIF  Tolerancia\n",
      "0      tov_home   1.188898    0.841115\n",
      "1      ftm_away   2.059568    0.485539\n",
      "2      ftm_home   2.025936    0.493599\n",
      "3  fg3_pct_home   3.298588    0.303160\n",
      "4  fg3_pct_away   3.244592    0.308205\n",
      "5      pts_home  33.074481    0.030235\n",
      "6      pts_away  34.006262    0.029406\n",
      "7     wl_home_1  27.419664    0.036470\n"
     ]
    }
   ],
   "source": [
    "\n",
    "# Escalamos las variables\n",
    "scaler_VIF2 = StandardScaler()\n",
    "scaled_data_VIF2 = scaler_VIF2.fit_transform(games_CM)\n",
    "\n",
    "\n",
    "correlation_matrix_VIF2 = np.corrcoef(scaled_data_VIF2, rowvar=False)\n",
    "\n",
    "\n",
    "vif2 = [variance_inflation_factor(correlation_matrix_VIF2, i) for i in range(correlation_matrix_VIF2.shape[0])]\n",
    "tolerance2 = [1 / v for v in vif2]  \n",
    "\n",
    "\n",
    "results_df = pd.DataFrame({\n",
    "    \"Variable\": games_CM.columns,\n",
    "    \"VIF\": vif2,\n",
    "    \"Tolerancia\": tolerance2\n",
    "})\n",
    "\n",
    "# Mostrar los resultados\n",
    "print(results_df)\n"
   ]
  },
  {
   "cell_type": "code",
   "execution_count": 26,
   "metadata": {},
   "outputs": [
    {
     "name": "stdout",
     "output_type": "stream",
     "text": [
      "       Variable        VIF  Tolerancia\n",
      "0      tov_home   1.188898    0.841115\n",
      "2      ftm_home   2.025936    0.493599\n",
      "1      ftm_away   2.059568    0.485539\n",
      "4  fg3_pct_away   3.244592    0.308205\n",
      "3  fg3_pct_home   3.298588    0.303160\n",
      "7     wl_home_1  27.419664    0.036470\n",
      "5      pts_home  33.074481    0.030235\n",
      "6      pts_away  34.006262    0.029406\n"
     ]
    }
   ],
   "source": [
    "print(results_df.sort_values('VIF', ascending=True))"
   ]
  },
  {
   "cell_type": "markdown",
   "metadata": {},
   "source": [
    "AL realizar el analisis VIF dentro de la base de datos con bas bases con Feature Importance y Correlacion,quedan muy pocad variables para poder entregarle al modelos, por lo que no incluiremos."
   ]
  },
  {
   "cell_type": "code",
   "execution_count": 27,
   "metadata": {},
   "outputs": [],
   "source": [
    "games_final = games_CM"
   ]
  },
  {
   "cell_type": "code",
   "execution_count": 28,
   "metadata": {},
   "outputs": [],
   "source": [
    "#procedemos a realizar una regresion como primera opcion\n",
    "\n",
    "X = games_final.drop('wl_home_1',axis=1)\n",
    "y = games_final['wl_home_1']\n",
    "X_train, X_test, y_train, y_test = train_test_split(X, y, test_size=0.3, random_state=2023)\n",
    "\n",
    "model = LinearRegression() \n",
    "model.fit(X_train, y_train) \n",
    "predictions = model.predict(X_test)"
   ]
  },
  {
   "cell_type": "code",
   "execution_count": 29,
   "metadata": {},
   "outputs": [
    {
     "name": "stdout",
     "output_type": "stream",
     "text": [
      "Mean Squared Error (MSE): 0.08433028221652952\n",
      "Mean Absolute Error (MAE): 0.24938608944274598\n",
      "Coefficient of Determination (R^2): 0.6503935437556292\n",
      "\n",
      "Algunas predicciones:\n",
      "Predicción: 1.2202264607154032 \tValor real: 1\n",
      "Predicción: 0.271902221134076 \tValor real: 0\n",
      "Predicción: 0.7768998928649069 \tValor real: 1\n",
      "Predicción: -0.07027749212875078 \tValor real: 0\n",
      "Predicción: 0.8406048361377472 \tValor real: 1\n"
     ]
    }
   ],
   "source": [
    "from sklearn.metrics import mean_squared_error, mean_absolute_error, r2_score, accuracy_score\n",
    "\n",
    "predictions = model.predict(X_test)\n",
    "\n",
    "mse = mean_squared_error(y_test, predictions)\n",
    "mae = mean_absolute_error(y_test, predictions)\n",
    "r2 = r2_score(y_test, predictions)\n",
    "\n",
    "\n",
    "print(\"Mean Squared Error (MSE):\", mse)\n",
    "print(\"Mean Absolute Error (MAE):\", mae)\n",
    "print(\"Coefficient of Determination (R^2):\", r2)\n",
    "\n",
    "\n",
    "print(\"\\nAlgunas predicciones:\")\n",
    "for i in range(5):  \n",
    "    print(\"Predicción:\", predictions[i], \"\\tValor real:\", y_test.iloc[i])\n"
   ]
  },
  {
   "cell_type": "code",
   "execution_count": 30,
   "metadata": {},
   "outputs": [
    {
     "name": "stdout",
     "output_type": "stream",
     "text": [
      "Rendimiento del modelo con variables de interés:\n",
      "Accuracy: 0.9821308159136884\n",
      "Precision: 0.9808558558558559\n",
      "Recall: 0.9892106757524134\n",
      "F1-score: 0.985015549901046\n"
     ]
    }
   ],
   "source": [
    "#con la regeesion nos da un r2 de 0,65, lo que no es muy bueno.\n",
    "\n",
    "#por lo que procedemos a realizar un ramdom fores  y sus variaciones\n",
    "\n",
    "X_RF = games_final.drop(['wl_home_1'], axis=1)\n",
    "y_RF = games_final.wl_home_1\n",
    "\n",
    "\n",
    "X_train_RF, X_test_RF, y_train_RF, y_test_RF = train_test_split(X_RF, y_RF, test_size=0.3, random_state=2023)\n",
    "\n",
    "bosque = RandomForestClassifier(n_estimators=100,\n",
    "                              criterion=\"gini\",  \n",
    "                              max_features=\"sqrt\",\n",
    "                              random_state=2023,\n",
    "                              bootstrap=True,\n",
    "                              max_samples=2/3,\n",
    "                              oob_score=True,  \n",
    "                              min_samples_leaf=8)\n",
    "\n",
    "\n",
    "bosque.fit(X_train_RF, y_train_RF)\n",
    "\n",
    "\n",
    "y_pred_RF = bosque.predict(X_test_RF)\n",
    "\n",
    "\n",
    "accuracy = accuracy_score(y_test_RF, y_pred_RF)\n",
    "precision = precision_score(y_test_RF, y_pred_RF)\n",
    "recall = recall_score(y_test_RF, y_pred_RF)\n",
    "f1 = f1_score(y_test_RF, y_pred_RF)\n",
    "\n",
    "\n",
    "print(\"Rendimiento del modelo con variables de interés:\")\n",
    "print(\"Accuracy:\", accuracy)\n",
    "print(\"Precision:\", precision)\n",
    "print(\"Recall:\", recall)\n",
    "print(\"F1-score:\", f1)\n"
   ]
  },
  {
   "cell_type": "code",
   "execution_count": 31,
   "metadata": {},
   "outputs": [
    {
     "name": "stderr",
     "output_type": "stream",
     "text": [
      "/Users/raimundoschulzehot/miniconda3/envs/diplomado/lib/python3.9/site-packages/sklearn/model_selection/_validation.py:425: FitFailedWarning: \n",
      "155 fits failed out of a total of 500.\n",
      "The score on these train-test partitions for these parameters will be set to nan.\n",
      "If these failures are not expected, you can try to debug them by setting error_score='raise'.\n",
      "\n",
      "Below are more details about the failures:\n",
      "--------------------------------------------------------------------------------\n",
      "155 fits failed with the following error:\n",
      "Traceback (most recent call last):\n",
      "  File \"/Users/raimundoschulzehot/miniconda3/envs/diplomado/lib/python3.9/site-packages/sklearn/model_selection/_validation.py\", line 732, in _fit_and_score\n",
      "    estimator.fit(X_train, y_train, **fit_params)\n",
      "  File \"/Users/raimundoschulzehot/miniconda3/envs/diplomado/lib/python3.9/site-packages/sklearn/base.py\", line 1144, in wrapper\n",
      "    estimator._validate_params()\n",
      "  File \"/Users/raimundoschulzehot/miniconda3/envs/diplomado/lib/python3.9/site-packages/sklearn/base.py\", line 637, in _validate_params\n",
      "    validate_parameter_constraints(\n",
      "  File \"/Users/raimundoschulzehot/miniconda3/envs/diplomado/lib/python3.9/site-packages/sklearn/utils/_param_validation.py\", line 95, in validate_parameter_constraints\n",
      "    raise InvalidParameterError(\n",
      "sklearn.utils._param_validation.InvalidParameterError: The 'max_features' parameter of RandomForestClassifier must be an int in the range [1, inf), a float in the range (0.0, 1.0], a str among {'log2', 'sqrt'} or None. Got 'auto' instead.\n",
      "\n",
      "  warnings.warn(some_fits_failed_message, FitFailedWarning)\n",
      "/Users/raimundoschulzehot/miniconda3/envs/diplomado/lib/python3.9/site-packages/sklearn/model_selection/_search.py:976: UserWarning: One or more of the test scores are non-finite: [0.94190156 0.9525953  0.97658709        nan 0.97369712        nan\n",
      " 0.98395755 0.94854833 0.97947768        nan 0.98381346 0.97499707\n",
      " 0.97456344 0.97254084        nan 0.95881043        nan 0.98178992\n",
      " 0.95750944 0.95693203 0.9783214         nan 0.97875514 0.98135681\n",
      "        nan 0.97875524 0.98395787 0.95750933 0.9781771  0.95129473\n",
      "        nan        nan 0.97586413 0.9786101  0.95765426 0.94146835\n",
      " 0.97557542 0.95563093        nan 0.9538963  0.97774347 0.97947747\n",
      "        nan        nan 0.95013855 0.94190177 0.94435779 0.97702103\n",
      " 0.9832349  0.98005571 0.97297427        nan 0.98352455 0.97673191\n",
      " 0.98395766 0.97745456 0.9874266         nan        nan 0.95216199\n",
      "        nan        nan 0.98598109 0.94305836        nan 0.98496964\n",
      " 0.98381315        nan 0.94565941        nan        nan 0.95346225\n",
      " 0.9749976  0.95274002 0.97268431        nan 0.97297395 0.95722052\n",
      " 0.95201737 0.97745518        nan        nan 0.94132279        nan\n",
      "        nan 0.9476818         nan 0.9797667  0.97340758        nan\n",
      "        nan 0.9458034  0.9420469  0.94999415 0.98294662        nan\n",
      " 0.98179024 0.9765873         nan 0.95288453]\n",
      "  warnings.warn(\n"
     ]
    },
    {
     "name": "stdout",
     "output_type": "stream",
     "text": [
      "Best parameters found: {'criterion': 'gini', 'max_depth': 10, 'max_features': 'log2', 'min_samples_leaf': 1, 'min_samples_split': 4, 'n_estimators': 90}\n",
      "Best cross-validation score: 0.9874265962826895\n"
     ]
    }
   ],
   "source": [
    "#procedemos a realizar un randomized search para ver los mejore hiperparametros disponibles\n",
    "from scipy.stats import randint\n",
    "\n",
    "\n",
    "param_dist = {\n",
    "    'n_estimators': randint(10, 200), \n",
    "    'criterion':['gini','entropy','log_loss'],  \n",
    "    'max_depth': [None] + list(randint(3, 20).rvs(5)),  \n",
    "    'min_samples_split': randint(2, 20),  \n",
    "    'min_samples_leaf': randint(1, 20),  \n",
    "    'max_features': ['sqrt', 'log2', 'auto']  \n",
    "}\n",
    "\n",
    "rf = RandomForestClassifier(random_state=2023)\n",
    "\n",
    "random_search = RandomizedSearchCV(estimator=rf, param_distributions=param_dist, n_iter=100, cv=5, random_state=2023)\n",
    "\n",
    "random_search.fit(X_train_RF, y_train_RF)\n",
    "\n",
    "best_params = random_search.best_params_\n",
    "best_score = random_search.best_score_\n",
    "\n",
    "print(\"Best parameters found:\", best_params)\n",
    "print(\"Best cross-validation score:\", best_score)\n"
   ]
  },
  {
   "cell_type": "code",
   "execution_count": 32,
   "metadata": {},
   "outputs": [
    {
     "name": "stdout",
     "output_type": "stream",
     "text": [
      "Rendimiento del modelo con variables de interés:\n",
      "Accuracy: 0.9888739042481457\n",
      "Precision: 0.9892412231030577\n",
      "Recall: 0.9920499716070414\n",
      "F1-score: 0.9906436064644173\n"
     ]
    }
   ],
   "source": [
    "#Procedemos a ajustar ajustar esos hiperparametros, para ver el nuevo rendimeinto.\n",
    "\n",
    "bosque_RS = RandomForestClassifier(n_estimators=90,\n",
    "                            criterion=\"gini\",  \n",
    "                            max_depth=16,\n",
    "                            max_features=\"log2\",\n",
    "                            random_state=2023,\n",
    "                            bootstrap=True,\n",
    "                            max_samples=2/3,\n",
    "                            oob_score=True,  \n",
    "                            min_samples_leaf=1,\n",
    "                            min_samples_split= 4,\n",
    "                            )\n",
    "\n",
    "\n",
    "bosque_RS.fit(X_train_RF, y_train_RF)\n",
    "\n",
    "\n",
    "y_pred_RF_RS = bosque_RS.predict(X_test_RF)\n",
    "\n",
    "accuracy_RS = accuracy_score(y_test_RF, y_pred_RF_RS)\n",
    "precision_RS = precision_score(y_test_RF, y_pred_RF_RS)\n",
    "recall_RS = recall_score(y_test_RF, y_pred_RF_RS)\n",
    "f1_RS = f1_score(y_test_RF, y_pred_RF_RS)\n",
    "\n",
    "# Imprime las métricas\n",
    "print(\"Rendimiento del modelo con variables de interés:\")\n",
    "print(\"Accuracy:\", accuracy_RS)\n",
    "print(\"Precision:\", precision_RS)\n",
    "print(\"Recall:\", recall_RS)\n",
    "print(\"F1-score:\", f1_RS)"
   ]
  },
  {
   "cell_type": "code",
   "execution_count": 33,
   "metadata": {},
   "outputs": [
    {
     "name": "stderr",
     "output_type": "stream",
     "text": [
      "/Users/raimundoschulzehot/miniconda3/envs/diplomado/lib/python3.9/site-packages/sklearn/model_selection/_validation.py:425: FitFailedWarning: \n",
      "5940 fits failed out of a total of 9720.\n",
      "The score on these train-test partitions for these parameters will be set to nan.\n",
      "If these failures are not expected, you can try to debug them by setting error_score='raise'.\n",
      "\n",
      "Below are more details about the failures:\n",
      "--------------------------------------------------------------------------------\n",
      "1757 fits failed with the following error:\n",
      "Traceback (most recent call last):\n",
      "  File \"/Users/raimundoschulzehot/miniconda3/envs/diplomado/lib/python3.9/site-packages/sklearn/model_selection/_validation.py\", line 732, in _fit_and_score\n",
      "    estimator.fit(X_train, y_train, **fit_params)\n",
      "  File \"/Users/raimundoschulzehot/miniconda3/envs/diplomado/lib/python3.9/site-packages/sklearn/base.py\", line 1144, in wrapper\n",
      "    estimator._validate_params()\n",
      "  File \"/Users/raimundoschulzehot/miniconda3/envs/diplomado/lib/python3.9/site-packages/sklearn/base.py\", line 637, in _validate_params\n",
      "    validate_parameter_constraints(\n",
      "  File \"/Users/raimundoschulzehot/miniconda3/envs/diplomado/lib/python3.9/site-packages/sklearn/utils/_param_validation.py\", line 95, in validate_parameter_constraints\n",
      "    raise InvalidParameterError(\n",
      "sklearn.utils._param_validation.InvalidParameterError: The 'max_features' parameter of RandomForestClassifier must be an int in the range [1, inf), a float in the range (0.0, 1.0], a str among {'sqrt', 'log2'} or None. Got 'auto' instead.\n",
      "\n",
      "--------------------------------------------------------------------------------\n",
      "1483 fits failed with the following error:\n",
      "Traceback (most recent call last):\n",
      "  File \"/Users/raimundoschulzehot/miniconda3/envs/diplomado/lib/python3.9/site-packages/sklearn/model_selection/_validation.py\", line 732, in _fit_and_score\n",
      "    estimator.fit(X_train, y_train, **fit_params)\n",
      "  File \"/Users/raimundoschulzehot/miniconda3/envs/diplomado/lib/python3.9/site-packages/sklearn/base.py\", line 1144, in wrapper\n",
      "    estimator._validate_params()\n",
      "  File \"/Users/raimundoschulzehot/miniconda3/envs/diplomado/lib/python3.9/site-packages/sklearn/base.py\", line 637, in _validate_params\n",
      "    validate_parameter_constraints(\n",
      "  File \"/Users/raimundoschulzehot/miniconda3/envs/diplomado/lib/python3.9/site-packages/sklearn/utils/_param_validation.py\", line 95, in validate_parameter_constraints\n",
      "    raise InvalidParameterError(\n",
      "sklearn.utils._param_validation.InvalidParameterError: The 'max_features' parameter of RandomForestClassifier must be an int in the range [1, inf), a float in the range (0.0, 1.0], a str among {'log2', 'sqrt'} or None. Got 'auto' instead.\n",
      "\n",
      "--------------------------------------------------------------------------------\n",
      "540 fits failed with the following error:\n",
      "Traceback (most recent call last):\n",
      "  File \"/Users/raimundoschulzehot/miniconda3/envs/diplomado/lib/python3.9/site-packages/sklearn/model_selection/_validation.py\", line 732, in _fit_and_score\n",
      "    estimator.fit(X_train, y_train, **fit_params)\n",
      "  File \"/Users/raimundoschulzehot/miniconda3/envs/diplomado/lib/python3.9/site-packages/sklearn/base.py\", line 1151, in wrapper\n",
      "    return fit_method(estimator, *args, **kwargs)\n",
      "  File \"/Users/raimundoschulzehot/miniconda3/envs/diplomado/lib/python3.9/site-packages/sklearn/ensemble/_forest.py\", line 417, in fit\n",
      "    raise ValueError(\"Out of bag estimation only available if bootstrap=True\")\n",
      "ValueError: Out of bag estimation only available if bootstrap=True\n",
      "\n",
      "--------------------------------------------------------------------------------\n",
      "2160 fits failed with the following error:\n",
      "Traceback (most recent call last):\n",
      "  File \"/Users/raimundoschulzehot/miniconda3/envs/diplomado/lib/python3.9/site-packages/sklearn/model_selection/_validation.py\", line 732, in _fit_and_score\n",
      "    estimator.fit(X_train, y_train, **fit_params)\n",
      "  File \"/Users/raimundoschulzehot/miniconda3/envs/diplomado/lib/python3.9/site-packages/sklearn/base.py\", line 1151, in wrapper\n",
      "    return fit_method(estimator, *args, **kwargs)\n",
      "  File \"/Users/raimundoschulzehot/miniconda3/envs/diplomado/lib/python3.9/site-packages/sklearn/ensemble/_forest.py\", line 402, in fit\n",
      "    raise ValueError(\n",
      "ValueError: `max_sample` cannot be set if `bootstrap=False`. Either switch to `bootstrap=True` or set `max_sample=None`.\n",
      "\n",
      "  warnings.warn(some_fits_failed_message, FitFailedWarning)\n",
      "/Users/raimundoschulzehot/miniconda3/envs/diplomado/lib/python3.9/site-packages/sklearn/model_selection/_search.py:976: UserWarning: One or more of the test scores are non-finite: [0.99002744 0.99002744 0.99031656 ...        nan        nan        nan]\n",
      "  warnings.warn(\n"
     ]
    },
    {
     "name": "stdout",
     "output_type": "stream",
     "text": [
      "Best parameters found with Grid Search: {'bootstrap': True, 'criterion': 'gini', 'max_depth': 20, 'max_features': 'sqrt', 'max_samples': None, 'min_samples_leaf': 1, 'min_samples_split': 2, 'n_estimators': 100, 'oob_score': True, 'random_state': 2023}\n",
      "Best cross-validation score with Grid Search: 0.9907501912153774\n"
     ]
    }
   ],
   "source": [
    "#ahora procedemos a realizar el grid serach de las variables de interes uqe nos dieron el en Random Search\n",
    "    \n",
    "param_grid_discreto = {\n",
    "    'n_estimators': [90, 100, 110],\n",
    "    'criterion': ['gini', 'entropy'],\n",
    "    'max_depth': [16, 18, 20],\n",
    "    'min_samples_split': [2, 4, 6],\n",
    "    'min_samples_leaf': [1],\n",
    "    'max_features': ['sqrt', 'log2', 'auto'],\n",
    "    'bootstrap': [True, False],\n",
    "    'max_samples': [None, 0.5, 0.7],\n",
    "    'oob_score': [True, False],\n",
    "    'random_state': [2023]\n",
    "\n",
    "}\n",
    "\n",
    "rf_grid_discreto = RandomForestClassifier()\n",
    "\n",
    "grid_search_discreto = GridSearchCV(estimator=rf_grid_discreto, param_grid=param_grid_discreto, cv=5, n_jobs=-1)\n",
    "\n",
    "grid_search_discreto.fit(X_train_RF, y_train_RF)\n",
    "\n",
    "best_params_grid_discreto = grid_search_discreto.best_params_\n",
    "best_score_grid_discreto = grid_search_discreto.best_score_\n",
    "\n",
    "print(\"Best parameters found with Grid Search:\", best_params_grid_discreto)\n",
    "print(\"Best cross-validation score with Grid Search:\", best_score_grid_discreto)\n"
   ]
  },
  {
   "cell_type": "code",
   "execution_count": 34,
   "metadata": {},
   "outputs": [
    {
     "name": "stdout",
     "output_type": "stream",
     "text": [
      "Rendimiento del modelo con variables de interés:\n",
      "Accuracy: 0.9881995954146999\n",
      "Precision: 0.9864712514092446\n",
      "Recall: 0.9937535491198183\n",
      "F1-score: 0.9900990099009901\n"
     ]
    }
   ],
   "source": [
    "#ahora procedemos a realizar el ultimo modelo con los hiperparamedtros del Gris Search para ver el nnuevo rendimiento del modelo\n",
    "\n",
    "bosque_GS_discreto = RandomForestClassifier(n_estimators=110,\n",
    "                            criterion=\"gini\",  \n",
    "                            max_depth=20,\n",
    "                            max_features=\"sqrt\",\n",
    "                            random_state=2023,\n",
    "                            bootstrap=True,\n",
    "                            max_samples=0.7,\n",
    "                            oob_score=True, \n",
    "                            min_samples_leaf=1,\n",
    "                            min_samples_split= 2,\n",
    "                            )\n",
    "\n",
    "\n",
    "bosque_GS_discreto.fit(X_train_RF, y_train_RF)\n",
    "\n",
    "\n",
    "y_pred_RF_RS_GS = bosque_GS_discreto.predict(X_test_RF)\n",
    "\n",
    "accuracy_GS_discreto = accuracy_score(y_test_RF, y_pred_RF_RS_GS)\n",
    "precision_GS_discreto = precision_score(y_test_RF, y_pred_RF_RS_GS)\n",
    "recall_GS_discreto = recall_score(y_test_RF, y_pred_RF_RS_GS)\n",
    "f1_GS_discreto = f1_score(y_test_RF, y_pred_RF_RS_GS)\n",
    "\n",
    "# Imprime las métricas\n",
    "print(\"Rendimiento del modelo con variables de interés:\")\n",
    "print(\"Accuracy:\", accuracy_GS_discreto)\n",
    "print(\"Precision:\", precision_GS_discreto)\n",
    "print(\"Recall:\", recall_GS_discreto)\n",
    "print(\"F1-score:\", f1_GS_discreto)"
   ]
  },
  {
   "cell_type": "code",
   "execution_count": 35,
   "metadata": {},
   "outputs": [
    {
     "name": "stderr",
     "output_type": "stream",
     "text": [
      "/Users/raimundoschulzehot/miniconda3/envs/diplomado/lib/python3.9/site-packages/sklearn/model_selection/_validation.py:425: FitFailedWarning: \n",
      "8640 fits failed out of a total of 17280.\n",
      "The score on these train-test partitions for these parameters will be set to nan.\n",
      "If these failures are not expected, you can try to debug them by setting error_score='raise'.\n",
      "\n",
      "Below are more details about the failures:\n",
      "--------------------------------------------------------------------------------\n",
      "8640 fits failed with the following error:\n",
      "Traceback (most recent call last):\n",
      "  File \"/Users/raimundoschulzehot/miniconda3/envs/diplomado/lib/python3.9/site-packages/sklearn/model_selection/_validation.py\", line 732, in _fit_and_score\n",
      "    estimator.fit(X_train, y_train, **fit_params)\n",
      "  File \"/Users/raimundoschulzehot/miniconda3/envs/diplomado/lib/python3.9/site-packages/sklearn/base.py\", line 1151, in wrapper\n",
      "    return fit_method(estimator, *args, **kwargs)\n",
      "  File \"/Users/raimundoschulzehot/miniconda3/envs/diplomado/lib/python3.9/site-packages/sklearn/ensemble/_forest.py\", line 402, in fit\n",
      "    raise ValueError(\n",
      "ValueError: `max_sample` cannot be set if `bootstrap=False`. Either switch to `bootstrap=True` or set `max_sample=None`.\n",
      "\n",
      "  warnings.warn(some_fits_failed_message, FitFailedWarning)\n",
      "/Users/raimundoschulzehot/miniconda3/envs/diplomado/lib/python3.9/site-packages/sklearn/model_selection/_search.py:976: UserWarning: One or more of the test scores are non-finite: [0.98684793 0.98655892 0.98655892 ...        nan        nan        nan]\n",
      "  warnings.warn(\n"
     ]
    },
    {
     "name": "stdout",
     "output_type": "stream",
     "text": [
      "Best parameters found with Grid Search: {'bootstrap': True, 'criterion': 'gini', 'max_depth': 18, 'max_features': 'sqrt', 'max_samples': 0.7, 'min_samples_leaf': 1, 'min_samples_split': 2, 'n_estimators': 110, 'random_state': 2023}\n",
      "Best cross-validation score with Grid Search: 0.9888717874771691\n"
     ]
    }
   ],
   "source": [
    "#ahora procedemomos a generar el grid search con valores continuos\n",
    "\n",
    "param_grid_continuo = {\n",
    "    'n_estimators': list(range(90, 120, 10)),  \n",
    "    'criterion': ['gini', 'entropy'],\n",
    "    'max_depth': list(range(14, 22, 2)),  \n",
    "    'min_samples_split': list(range(2, 8, 2)),\n",
    "    'min_samples_leaf': list(range(1, 4)),  \n",
    "    'max_features': ['sqrt', 'log2'],  \n",
    "    'bootstrap': [True, False],\n",
    "    'max_samples': np.linspace(0.4, 0.7, 4),  \n",
    "    'random_state': [2023]\n",
    "}\n",
    "\n",
    "rf_grid = RandomForestClassifier()\n",
    "\n",
    "grid_search_continuo = GridSearchCV(estimator=rf_grid, param_grid=param_grid_continuo, cv=5, n_jobs=-1)  \n",
    "\n",
    "grid_search_continuo.fit(X_train_RF, y_train_RF)\n",
    "\n",
    "best_params_grid_continuo = grid_search_continuo.best_params_\n",
    "best_score_grid_continuo = grid_search_continuo.best_score_\n",
    "\n",
    "print(\"Best parameters found with Grid Search:\", best_params_grid_continuo)\n",
    "print(\"Best cross-validation score with Grid Search:\", best_score_grid_continuo)"
   ]
  },
  {
   "cell_type": "markdown",
   "metadata": {},
   "source": [
    "Con estos hiperparametros ya definidos, podemos decir que le modelo para prediccion de los resultados de la NBA tienie una accurracy de 0.99\n",
    "\n",
    "Para continuar, procedemos a realiza la matriz de correlacion y agrergar los distintos valores a la tabla de predicciones."
   ]
  },
  {
   "cell_type": "code",
   "execution_count": 36,
   "metadata": {},
   "outputs": [
    {
     "name": "stdout",
     "output_type": "stream",
     "text": [
      "Rendimiento del modelo con variables de interés:\n",
      "Accuracy: 0.9871881321645314\n",
      "Precision: 0.9853521126760564\n",
      "Recall: 0.9931856899488927\n",
      "F1-score: 0.9892533936651584\n"
     ]
    }
   ],
   "source": [
    "#ahora procedemos a realizar el ultimo modelo con los hiperparamedtros del Gris Sdarch continiuo para ver el nnuevo rendimoento del modelo\n",
    "\n",
    "bosque_GS_continuo = RandomForestClassifier(n_estimators=110,\n",
    "                            criterion=\"gini\",  \n",
    "                            max_depth=18,\n",
    "                            max_features=\"sqrt\",\n",
    "                            random_state=2023,\n",
    "                            bootstrap=True,\n",
    "                            max_samples=0.7,\n",
    "                            oob_score=True,  \n",
    "                            min_samples_leaf=1,\n",
    "                            min_samples_split= 10,\n",
    "                            )\n",
    "\n",
    "\n",
    "bosque_GS_continuo.fit(X_train_RF, y_train_RF)\n",
    "\n",
    "\n",
    "y_pred_RF_RS_GS_continuo = bosque_GS_continuo.predict(X_test_RF)\n",
    "\n",
    "accuracy_GS_continuo = accuracy_score(y_test_RF, y_pred_RF_RS_GS_continuo)\n",
    "precision_GS_continuo = precision_score(y_test_RF, y_pred_RF_RS_GS_continuo)\n",
    "recall_GS_continuo = recall_score(y_test_RF, y_pred_RF_RS_GS_continuo)\n",
    "f1_GS_continuo = f1_score(y_test_RF, y_pred_RF_RS_GS_continuo)\n",
    "\n",
    "# Imprime las métricas\n",
    "print(\"Rendimiento del modelo con variables de interés:\")\n",
    "print(\"Accuracy:\", accuracy_GS_continuo)\n",
    "print(\"Precision:\", precision_GS_continuo)\n",
    "print(\"Recall:\", recall_GS_continuo)\n",
    "print(\"F1-score:\", f1_GS_continuo)"
   ]
  },
  {
   "cell_type": "code",
   "execution_count": 37,
   "metadata": {},
   "outputs": [
    {
     "data": {
      "image/png": "[encoded data removed]",
      "text/plain": [
       "<Figure size 640x480 with 1 Axes>"
      ]
     },
     "metadata": {},
     "output_type": "display_data"
    }
   ],
   "source": [
    "#procedemos a ver distintas curvas para generar otras formas de validacion\n",
    "\n",
    "#partiremos con una curva de aprendizaje\n",
    "\n",
    "import matplotlib.pyplot as plt\n",
    "from sklearn.model_selection import learning_curve\n",
    "import numpy as np\n",
    "\n",
    "\n",
    "train_sizes, train_scores, valid_scores = learning_curve(\n",
    "    bosque_GS_continuo, X_train_RF, y_train_RF, cv=5, scoring='accuracy', train_sizes=np.linspace(0.1, 1.0, 10)\n",
    ")\n",
    "\n",
    "\n",
    "train_scores_mean = np.mean(train_scores, axis=1)\n",
    "train_scores_std = np.std(train_scores, axis=1)\n",
    "valid_scores_mean = np.mean(valid_scores, axis=1)\n",
    "valid_scores_std = np.std(valid_scores, axis=1)\n",
    "\n",
    "\n",
    "plt.figure()\n",
    "plt.title(\"Curva de Aprendizaje\")\n",
    "plt.xlabel(\"Tamaño del Conjunto de Entrenamiento\")\n",
    "plt.ylabel(\"Puntuación\")\n",
    "plt.grid()\n",
    "\n",
    "\n",
    "plt.fill_between(train_sizes, train_scores_mean - train_scores_std, train_scores_mean + train_scores_std, alpha=0.1, color='r')\n",
    "plt.plot(train_sizes, train_scores_mean, 'o-', color='r', label=\"Puntaje de Entrenamiento\")\n",
    "\n",
    "\n",
    "plt.fill_between(train_sizes, valid_scores_mean - valid_scores_std, valid_scores_mean + valid_scores_std, alpha=0.1, color='g')\n",
    "plt.plot(train_sizes, valid_scores_mean, 'o-', color='g', label=\"Puntaje de Validación\")\n",
    "\n",
    "\n",
    "plt.legend(loc=\"best\")\n",
    "plt.show()\n"
   ]
  }
 ],
 "metadata": {
  "kernelspec": {
   "display_name": "diplomado",
   "language": "python",
   "name": "python3"
  },
  "language_info": {
   "codemirror_mode": {
    "name": "ipython",
    "version": 3
   },
   "file_extension": ".py",
   "mimetype": "text/x-python",
   "name": "python",
   "nbconvert_exporter": "python",
   "pygments_lexer": "ipython3",
   "version": "3.9.12"
  }
 },
 "nbformat": 4,
 "nbformat_minor": 2
}
